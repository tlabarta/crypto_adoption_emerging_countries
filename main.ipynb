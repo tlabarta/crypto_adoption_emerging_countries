{
 "cells": [
  {
   "cell_type": "code",
   "execution_count": 1,
   "id": "1aeed1da",
   "metadata": {},
   "outputs": [],
   "source": [
    "import numpy as np\n",
    "import pandas as pd\n",
    "import seaborn as sns\n",
    "import matplotlib.pyplot as plt\n",
    "import statsmodels.api as sm"
   ]
  },
  {
   "cell_type": "markdown",
   "id": "1417746e",
   "metadata": {},
   "source": [
    "# 1. Data Import & Engineering"
   ]
  },
  {
   "cell_type": "markdown",
   "id": "0de051ea",
   "metadata": {},
   "source": [
    "Abbreviations:\n",
    "\n",
    "Cryptocurrency Adoption = C, Democracy = D, Education = E, Gini Index = G, Gross Domestic Product = GDP, \n",
    "Human Development Index = HDI, Corruption, Perception Index = CPI, Regulatory Quality = RQ, Control of Corruption = CC, Economic Freedom Index = EF, Network Readiness Index = N\n",
    "\n",
    "AC = Account (% age 15+),  BFI = Borrowed any money from a formal financial institution (% age 15+), BMM = Borrowed any money using a mobile money account (% age 15+), CredC =  Owns a credit card (% age 15+), DebC = Owns a debit card (% age 15+), RDP = Received digital payments (% age 15+), DEP = Made a deposit (% with a financial institution account, age 15+)"
   ]
  },
  {
   "cell_type": "code",
   "execution_count": 2,
   "id": "5c4b242e",
   "metadata": {
    "scrolled": true
   },
   "outputs": [
    {
     "ename": "NameError",
     "evalue": "name 'df_country_all' is not defined",
     "output_type": "error",
     "traceback": [
      "\u001b[0;31m---------------------------------------------------------------------------\u001b[0m",
      "\u001b[0;31mNameError\u001b[0m                                 Traceback (most recent call last)",
      "Input \u001b[0;32mIn [2]\u001b[0m, in \u001b[0;36m<cell line: 4>\u001b[0;34m()\u001b[0m\n\u001b[1;32m      2\u001b[0m df_fi_2017 \u001b[38;5;241m=\u001b[39m pd\u001b[38;5;241m.\u001b[39mread_csv(\u001b[38;5;124m\"\u001b[39m\u001b[38;5;124m../crypto_adoption_emerging_countries/input/FI_Filtered_2017.csv\u001b[39m\u001b[38;5;124m\"\u001b[39m, index_col\u001b[38;5;241m=\u001b[39m\u001b[38;5;124m\"\u001b[39m\u001b[38;5;124mCountry\u001b[39m\u001b[38;5;124m\"\u001b[39m)\n\u001b[1;32m      3\u001b[0m df_fi_2017 \u001b[38;5;241m=\u001b[39m df_fi_2017\u001b[38;5;241m.\u001b[39mfillna(\u001b[38;5;241m0\u001b[39m)\n\u001b[0;32m----> 4\u001b[0m df_all_2017 \u001b[38;5;241m=\u001b[39m pd\u001b[38;5;241m.\u001b[39mmerge(\u001b[43mdf_country_all\u001b[49m, df_fi_2017, left_index\u001b[38;5;241m=\u001b[39m\u001b[38;5;28;01mTrue\u001b[39;00m, right_index\u001b[38;5;241m=\u001b[39m\u001b[38;5;28;01mTrue\u001b[39;00m)\n\u001b[1;32m      5\u001b[0m df_all_2017\n",
      "\u001b[0;31mNameError\u001b[0m: name 'df_country_all' is not defined"
     ]
    }
   ],
   "source": [
    "#Load Financial Inclusion 2017 Data from World Bank and merge with other country data\n",
    "df_fi_2017 = pd.read_csv(\"../crypto_adoption_emerging_countries/input/FI_Filtered_2017.csv\", index_col=\"Country\")\n",
    "df_fi_2017 = df_fi_2017.fillna(0)\n",
    "df_all_2017 = pd.merge(df_country_all, df_fi_2017, left_index=True, right_index=True)\n",
    "df_all_2017"
   ]
  },
  {
   "cell_type": "code",
   "execution_count": null,
   "id": "f6fa8ecb",
   "metadata": {},
   "outputs": [],
   "source": [
    "df_fi_2021 = pd.read_csv(\"../crypto_adoption_emerging_countries/input/FI_Filtered_2021.csv\", index_col=\"Country\")\n",
    "df_fi_2021= df_fi_2021.fillna(0)\n",
    "df_all_2021 = pd.merge(df_country_all, df_fi_2021, left_index=True, right_index=True)\n",
    "df_all_2021"
   ]
  },
  {
   "cell_type": "code",
   "execution_count": null,
   "id": "7cf3b933",
   "metadata": {},
   "outputs": [],
   "source": [
    "df_fi_2021"
   ]
  },
  {
   "cell_type": "markdown",
   "id": "d041c07e",
   "metadata": {},
   "source": [
    "# 2. Correlation Matrix for 2017 and 2021 Financial Inclusion Data"
   ]
  },
  {
   "cell_type": "code",
   "execution_count": null,
   "id": "6c473c6c",
   "metadata": {},
   "outputs": [],
   "source": [
    "sns.set(rc={\"figure.figsize\":(15,13)})\n",
    "hm_2017_corr = sns.heatmap(df_all_2017.corr().round(3), annot = True, cmap=\"Blues\")\n",
    "hm_2017_corr.set(title = \"Correlation matrix of Crypto Adoption, Human Development and Financial Inclusion 2017\")\n",
    "plt.savefig(\"../crypto_adoption_emerging_countries/output/Corr_Matrix_2017.jpg\")"
   ]
  },
  {
   "cell_type": "code",
   "execution_count": null,
   "id": "08b0529f",
   "metadata": {
    "scrolled": true
   },
   "outputs": [],
   "source": [
    "sns.set(rc={\"figure.figsize\":(15,13)})\n",
    "hm_2021_corr = sns.heatmap(df_all_2021.corr().round(3), annot = True, cmap=\"Blues\")\n",
    "hm_2021_corr.set(title = \"Correlation matrix of Crypto Adoption, Human Development and Financial Inclusion 2021\")\n",
    "plt.savefig(\"../crypto_adoption_emerging_countries/output/Corr_Matrix_2021.jpg\")"
   ]
  },
  {
   "cell_type": "markdown",
   "id": "cd7a4888",
   "metadata": {},
   "source": [
    "# 3. Plotting Crypto Adoption with Financial Inclusion Indicators"
   ]
  },
  {
   "cell_type": "code",
   "execution_count": null,
   "id": "2252755e",
   "metadata": {},
   "outputs": [],
   "source": [
    "y=df_all_2017['C']\n",
    "\n",
    "for n in range(11,17):\n",
    "    x=df_all_2017.iloc[:,n].sort_values()\n",
    "    plt.figure(figsize=(5, 5))\n",
    "    plt.plot(x, y, 'o')\n",
    "    plt.xlabel(str(df_all_2017.columns[n]))\n",
    "    plt.ylabel('Crypto Adoption')\n",
    "    plt.savefig(\"../crypto_adoption_emerging_countries/output/plots/Plot_Crypto_\" + str(df_all_2017.columns[n]) + \"2017.jpg\")"
   ]
  },
  {
   "cell_type": "code",
   "execution_count": null,
   "id": "25dbf8e1",
   "metadata": {},
   "outputs": [],
   "source": [
    "y=df_all_2021['C']\n",
    "\n",
    "for n in range(11,18):\n",
    "    x=df_all_2021.iloc[:,n].sort_values()\n",
    "    plt.figure(figsize=(5, 5))\n",
    "    plt.plot(x, y, 'o')\n",
    "    plt.xlabel(str(df_all_2021.columns[n]))\n",
    "    plt.ylabel('Crypto Adoption')\n",
    "    plt.savefig(\"../crypto_adoption_emerging_countries/output/plots/Plot_Crypto_\" + str(df_all_2021.columns[n]) + \"2021.jpg\")"
   ]
  },
  {
   "cell_type": "markdown",
   "id": "dbc79589",
   "metadata": {},
   "source": [
    "# 4. Multivariate Regression - HDI and FC on Crypto Adoption"
   ]
  },
  {
   "cell_type": "code",
   "execution_count": null,
   "id": "373cb2cc",
   "metadata": {
    "scrolled": true
   },
   "outputs": [],
   "source": [
    "#Initial state as in Paper\n",
    "x = df_country_all.loc[:, df_country_all.columns!='C']\n",
    "y = df_country_all['C']\n",
    "\n",
    "# with statsmodels\n",
    "x = sm.add_constant(x) # adding a constant\n",
    " \n",
    "model_init = sm.GLS(y, x).fit()\n",
    "predictions = model_init.predict(x) \n",
    " \n",
    "print_model = model_init.summary()\n",
    "#print(print_model)\n",
    "\n",
    "#Save Result\n",
    "plt.rc('figure', figsize=(12, 7))\n",
    "plt.text(0.01, 0.05, str(model_init.summary()), {'fontsize': 10}, fontproperties = 'monospace') # approach improved by OP -> monospace!\n",
    "plt.axis('off')\n",
    "plt.tight_layout()\n",
    "plt.savefig('../crypto_adoption_emerging_countries/output/regression/model_init.png')"
   ]
  },
  {
   "cell_type": "code",
   "execution_count": null,
   "id": "43512772",
   "metadata": {},
   "outputs": [],
   "source": [
    "#Regressing only Crypto Adoption with Financial Inclusion 2017\n",
    "\n",
    "#Adding Financial Inclusion Indicators with each round\n",
    "y = df_all_2017['C']\n",
    "\n",
    "# with statsmodels\n",
    "\n",
    "columncount = 1\n",
    "\n",
    "for n in range(12,18):\n",
    "    x = df_all_2017.iloc[:, 11:n]\n",
    "    x = sm.add_constant(x) # adding a constant\n",
    "\n",
    "    model_2017_FC_only = sm.GLS(y, x).fit()\n",
    "    predictions = model_2017_FC_only.predict(x) \n",
    "\n",
    "    print_model = model_2017_FC_only.summary()\n",
    "    print(print_model)\n",
    "    \n",
    "    #Save Result\n",
    "    plt.rc('figure', figsize=(12, 7))\n",
    "    plt.text(0.01, 0.05, str(model_2017_FC_only.summary()), {'fontsize': 10}, fontproperties = 'monospace')\n",
    "    plt.axis('off')\n",
    "    plt.tight_layout()\n",
    "    plt.savefig('../crypto_adoption_emerging_countries/output/regression/model_2017_FI_only_' + str(columncount) + '.png')\n",
    "    \n",
    "    #Increase count\n",
    "    columncount = columncount + 1\n",
    "    plt.clf()"
   ]
  },
  {
   "cell_type": "code",
   "execution_count": null,
   "id": "8b40e022",
   "metadata": {},
   "outputs": [],
   "source": [
    "#Regressing only Crypto Adoption with Financial Inclusion 2021 - WITH BMM\n",
    "\n",
    "#Adding Financial Inclusion Indicators with each round\n",
    "y = df_all_2021['C']\n",
    "\n",
    "# with statsmodels\n",
    "\n",
    "columncount = 1\n",
    "\n",
    "for n in range(12,19):\n",
    "    x = df_all_2021.iloc[:, 11:n]\n",
    "    x = sm.add_constant(x) # adding a constant\n",
    "\n",
    "    model_2021_FC_only = sm.GLS(y, x).fit()\n",
    "    predictions = model_2021_FC_only.predict(x) \n",
    "\n",
    "    print_model = model_2021_FC_only.summary()\n",
    "    print(print_model)\n",
    "    \n",
    "    #Save Result\n",
    "    plt.rc('figure', figsize=(12, 7))\n",
    "    plt.text(0.01, 0.05, str(model_2021_FC_only.summary()), {'fontsize': 10}, fontproperties = 'monospace')\n",
    "    plt.axis('off')\n",
    "    plt.tight_layout()\n",
    "    plt.savefig('../crypto_adoption_emerging_countries/output/regression/model_2021_FI_only_with_BMM_' + str(columncount) + '.png')\n",
    "    \n",
    "    #Increase count\n",
    "    columncount = columncount + 1\n",
    "    plt.clf()"
   ]
  },
  {
   "cell_type": "code",
   "execution_count": null,
   "id": "9f3f99cd",
   "metadata": {},
   "outputs": [],
   "source": [
    "#Regressing only Crypto Adoption with Financial Inclusion 2021 - WITHOUT BMM\n",
    "\n",
    "#Adding Financial Inclusion Indicators with each round\n",
    "y = df_all_2021['C']\n",
    "df_all_2021_no_bmm = df_all_2021.drop(\"BMM\", axis=1)\n",
    "\n",
    "# with statsmodels\n",
    "\n",
    "columncount = 1\n",
    "\n",
    "for n in range(12,18):\n",
    "    x = df_all_2021_no_bmm.iloc[:, 11:n]\n",
    "    x = sm.add_constant(x) # adding a constant\n",
    "\n",
    "    model_2021_FC_only = sm.GLS(y, x).fit()\n",
    "    predictions = model_2021_FC_only.predict(x) \n",
    "\n",
    "    print_model = model_2021_FC_only.summary()\n",
    "    print(print_model)\n",
    "    \n",
    "    #Save Result\n",
    "    plt.rc('figure', figsize=(12, 7))\n",
    "    plt.text(0.01, 0.05, str(model_2021_FC_only.summary()), {'fontsize': 10}, fontproperties = 'monospace')\n",
    "    plt.axis('off')\n",
    "    plt.tight_layout()\n",
    "    plt.savefig('../crypto_adoption_emerging_countries/output/regression/model_2021_FI_only_without_BMM_' + str(columncount) + '.png')\n",
    "    \n",
    "    #Increase count\n",
    "    columncount = columncount + 1\n",
    "    plt.clf()"
   ]
  }
 ],
 "metadata": {
  "kernelspec": {
   "display_name": "Python 3 (ipykernel)",
   "language": "python",
   "name": "python3"
  },
  "language_info": {
   "codemirror_mode": {
    "name": "ipython",
    "version": 3
   },
   "file_extension": ".py",
   "mimetype": "text/x-python",
   "name": "python",
   "nbconvert_exporter": "python",
   "pygments_lexer": "ipython3",
   "version": "3.10.4"
  }
 },
 "nbformat": 4,
 "nbformat_minor": 5
}
